{
 "cells": [
  {
   "cell_type": "code",
   "execution_count": 1,
   "id": "8ae80d1c-5b0b-46e1-a8ea-fce49b2348f7",
   "metadata": {},
   "outputs": [],
   "source": [
    "#This script will get DB´s user data and will check which hasnt a  picture.\n",
    "#then, the program will send an email to those users to remind setting up the picture"
   ]
  },
  {
   "cell_type": "code",
   "execution_count": 2,
   "id": "b240dad0-0134-491c-94ab-cb56969dff42",
   "metadata": {},
   "outputs": [
    {
     "name": "stdout",
     "output_type": "stream",
     "text": [
      "[(3, 'plakas', '2462fbe58fad39d1e5b78e94b8113523', 'jon', 'unzuaga', 'irun', 'guipuzcoa', 'spain', 20304, 88888888, '')]\n"
     ]
    }
   ],
   "source": [
    "import mysql.connector\n",
    "\n",
    "mydb = mysql.connector.connect(\n",
    "  host=\"localhost\",\n",
    "  user=\"root\",\n",
    "  password=\"\",\n",
    "  database=\"dbweb\"\n",
    ")\n",
    "\n",
    "mycursor = mydb.cursor()\n",
    "\n",
    "mycursor.execute(\"SELECT * FROM users\")\n",
    "\n",
    "myresult = mycursor.fetchall()\n",
    "\n",
    "blacklist = []\n",
    "\n",
    "#get non pic users\n",
    "for x in myresult:\n",
    "  if x[10] == '':\n",
    "    blacklist.append(x)\n",
    "print(blacklist)\n",
    "\n",
    "\n",
    "    "
   ]
  },
  {
   "cell_type": "code",
   "execution_count": 3,
   "id": "b6925826-9d68-46c8-ac5c-8e8915b8dcd1",
   "metadata": {},
   "outputs": [],
   "source": [
    "#Now we will send an email to those users who doesn`t have pic"
   ]
  },
  {
   "cell_type": "code",
   "execution_count": 4,
   "id": "ede8bbab-7752-4625-875b-edcda64bfaa7",
   "metadata": {},
   "outputs": [
    {
     "data": {
      "text/plain": [
       "(221, b'Goodbye')"
      ]
     },
     "execution_count": 4,
     "metadata": {},
     "output_type": "execute_result"
    }
   ],
   "source": [
    "\n",
    "# Import smtplib for the actual sending function\n",
    "import smtplib\n",
    "\n",
    "# Import the email modules we'll need\n",
    "from email.message import EmailMessage\n",
    "#send email\n",
    "for x in blacklist:\n",
    "    email = x[1]\n",
    "    textfile = 'textfile.txt'\n",
    "    # Open the plain text file whose name is in textfile for reading.\n",
    "    with open(textfile) as fp:\n",
    "        # Create a text/plain message\n",
    "        msg = EmailMessage()\n",
    "        msg.set_content(fp.read())\n",
    "\n",
    "    # me == the sender's email address\n",
    "    # you == the recipient's email address\n",
    "    msg['Subject'] = f'Your profile pic!'\n",
    "    msg['From'] = \"admin@admin.com\"\n",
    "    msg['To'] = email\n",
    "\n",
    "    # Send the message via our own SMTP server.\n",
    "s = smtplib.SMTP('localhost',2525)\n",
    "s.send_message(msg)\n",
    "s.quit()"
   ]
  }
 ],
 "metadata": {
  "kernelspec": {
   "display_name": "Python 3 (ipykernel)",
   "language": "python",
   "name": "python3"
  },
  "language_info": {
   "codemirror_mode": {
    "name": "ipython",
    "version": 3
   },
   "file_extension": ".py",
   "mimetype": "text/x-python",
   "name": "python",
   "nbconvert_exporter": "python",
   "pygments_lexer": "ipython3",
   "version": "3.10.7"
  }
 },
 "nbformat": 4,
 "nbformat_minor": 5
}
