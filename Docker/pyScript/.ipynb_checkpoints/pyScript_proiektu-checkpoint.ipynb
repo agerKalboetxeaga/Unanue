{
 "cells": [
  {
   "cell_type": "code",
   "execution_count": 11,
   "id": "8ae80d1c-5b0b-46e1-a8ea-fce49b2348f7",
   "metadata": {},
   "outputs": [],
   "source": [
    "#This script will get DB´s user data and will check which hasnt a  picture.\n",
    "#then, the program will send an email to those users to remind setting up the picture"
   ]
  },
  {
   "cell_type": "code",
   "execution_count": 12,
   "id": "b240dad0-0134-491c-94ab-cb56969dff42",
   "metadata": {},
   "outputs": [
    {
     "name": "stdout",
     "output_type": "stream",
     "text": [
      "[(3, 'plakas', '2462fbe58fad39d1e5b78e94b8113523', 'jon', 'unzuaga', 'irun', 'guipuzcoa', 'spain', 20304, 88888888, '')]\n"
     ]
    }
   ],
   "source": [
    "import mysql.connector\n",
    "\n",
    "mydb = mysql.connector.connect(\n",
    "  host=\"localhost\",\n",
    "  user=\"root\",\n",
    "  password=\"\",\n",
    "  database=\"dbweb\"\n",
    ")\n",
    "\n",
    "mycursor = mydb.cursor()\n",
    "\n",
    "mycursor.execute(\"SELECT * FROM users\")\n",
    "\n",
    "myresult = mycursor.fetchall()\n",
    "\n",
    "blacklist = []\n",
    "\n",
    "#get non pic users\n",
    "for x in myresult:\n",
    "  if x[10] == '':\n",
    "    blacklist.append(x)\n",
    "print(blacklist)\n",
    "\n",
    "\n",
    "    "
   ]
  },
  {
   "cell_type": "code",
   "execution_count": 13,
   "id": "b6925826-9d68-46c8-ac5c-8e8915b8dcd1",
   "metadata": {},
   "outputs": [],
   "source": [
    "#Now we will send an email to those users who doesn`t have pic"
   ]
  },
  {
   "cell_type": "code",
   "execution_count": 14,
   "id": "ede8bbab-7752-4625-875b-edcda64bfaa7",
   "metadata": {},
   "outputs": [
    {
     "ename": "AttributeError",
     "evalue": "'SMTP' object has no attribute 'send_mess'",
     "output_type": "error",
     "traceback": [
      "\u001b[1;31m---------------------------------------------------------------------------\u001b[0m",
      "\u001b[1;31mAttributeError\u001b[0m                            Traceback (most recent call last)",
      "Cell \u001b[1;32mIn [14], line 24\u001b[0m\n\u001b[0;32m     22\u001b[0m \u001b[38;5;66;03m# Send the message via our own SMTP server.\u001b[39;00m\n\u001b[0;32m     23\u001b[0m s \u001b[38;5;241m=\u001b[39m smtplib\u001b[38;5;241m.\u001b[39mSMTP(\u001b[38;5;124m'\u001b[39m\u001b[38;5;124mlocalhost\u001b[39m\u001b[38;5;124m'\u001b[39m,\u001b[38;5;241m2525\u001b[39m)\n\u001b[1;32m---> 24\u001b[0m \u001b[43ms\u001b[49m\u001b[38;5;241;43m.\u001b[39;49m\u001b[43msend_mess\u001b[49m\n",
      "\u001b[1;31mAttributeError\u001b[0m: 'SMTP' object has no attribute 'send_mess'"
     ]
    }
   ],
   "source": [
    "\n",
    "# Import smtplib for the actual sending function\n",
    "import smtplib\n",
    "\n",
    "# Import the email modules we'll need\n",
    "from email.message import EmailMessage\n",
    "#send email\n",
    "for x in blacklist:\n",
    "    email = x[1]\n",
    "    textfile = 'textfile.txt'\n",
    "    # Open the plain text file whose name is in textfile for reading.\n",
    "    with open(textfile) as fp:\n",
    "        # Create a text/plain message\n",
    "        msg = EmailMessage()\n",
    "        msg.set_content(fp.read())\n",
    "\n",
    "    # me == the sender's email address\n",
    "    # you == the recipient's email address\n",
    "    msg['Subject'] = f'Your profile pic! {textfile}'\n",
    "    msg['From'] = \"admin@admin.com\"\n",
    "    msg['To'] = email\n",
    "\n",
    "    # Send the message via our own SMTP server.\n",
    "s = smtplib.SMTP('localhost',2525)\n",
    "s.send_message(msg)\n",
    "s.quit()"
   ]
  },
  {
   "cell_type": "code",
   "execution_count": null,
   "id": "3f8de5ce-e08a-4143-a8ee-d4a95a97d2e7",
   "metadata": {},
   "outputs": [],
   "source": []
  }
 ],
 "metadata": {
  "kernelspec": {
   "display_name": "Python 3 (ipykernel)",
   "language": "python",
   "name": "python3"
  },
  "language_info": {
   "codemirror_mode": {
    "name": "ipython",
    "version": 3
   },
   "file_extension": ".py",
   "mimetype": "text/x-python",
   "name": "python",
   "nbconvert_exporter": "python",
   "pygments_lexer": "ipython3",
   "version": "3.10.7"
  }
 },
 "nbformat": 4,
 "nbformat_minor": 5
}
